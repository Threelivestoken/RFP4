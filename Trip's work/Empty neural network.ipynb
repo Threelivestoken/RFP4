{
 "cells": [
  {
   "cell_type": "code",
   "execution_count": 1,
   "id": "cd1fafc3",
   "metadata": {},
   "outputs": [],
   "source": [
    "import random"
   ]
  },
  {
   "cell_type": "code",
   "execution_count": 30,
   "id": "ddf101f2",
   "metadata": {},
   "outputs": [
    {
     "name": "stdout",
     "output_type": "stream",
     "text": [
      "{'Numoflayers': 3, 'Sizeoflayers': 3, 'Bias': [0.3054866594797452, 0.5941577709564152, -0.8525783592033265, -0.665122964776172, 0.9148255711936459, -0.33014634151429867, 0.32581356979777576, 0.10828784591938478, 0.2391532771431022], 'Act': [1, 2, 0, 2, 2, 1, 0, 0, 0], '0': [0.4910684509799572, 0.7801557210855792, -0.1970065358546884], '1': [0.12267233923938159, 0.14520378153660873, 0.7278586194859749], '2': [0.9822483002222029, 0.6266897179539186, 0.09402268740708841], 'Mult1': [0.566513473414793, -0.18509749499539163, 0.9681224874622736, 0.4649530610241517, 0.9603274100675538, 0.6357840639572956, 0.44509301937449863, -0.03501044619332405, 0.3509381054078704], 'Mult2': [0.4732230235540089, 0.4439857714943656, -0.5790496504427403, 0.7701374694380763, -0.663917057528363, 0.8236572322215796, 0.298165348933358, 0.9184882648497359, 0.21252535552613439]}\n"
     ]
    }
   ],
   "source": [
    "def CreateNet(Numoflayers,Sizeoflayers):\n",
    "    act_funct=[0,1,2]\n",
    "    network_info={\n",
    "        \"Numoflayers\":Numoflayers,\n",
    "        \"Sizeoflayers\":Sizeoflayers,\n",
    "    #    \"0\":[],\n",
    "    #    \"1\":[],\n",
    "    #    \"2\":[],\n",
    "    \n",
    "    #    \"Mult1\":[],\n",
    "    #    \"Mult2\":[],\n",
    "        \"Bias\":[],\n",
    "        \n",
    "        \"Act\":[]#activation function\n",
    "    }\n",
    "    #make empty layers\n",
    "    for layers_num in range(Numoflayers):#Node current values\n",
    "        network_info[str(layers_num)]=[]\n",
    "    \n",
    "    for mult_num in range(1,Numoflayers):#Mult values\n",
    "        network_info[\"Mult\"+str(mult_num)]=[]\n",
    "    \n",
    "    \n",
    "    \n",
    "    #Set network values=====================================\n",
    "    \n",
    "    #Set layers\n",
    "    for layer in range(network_info[\"Numoflayers\"]):\n",
    "        for node in range(network_info[\"Sizeoflayers\"]):\n",
    "            network_info[str(layer)].append(random.uniform(-1,1))\n",
    "    #Set multipliers\n",
    "    for mult_value in range(1,network_info[\"Numoflayers\"]):\n",
    "        for layer in range(network_info[\"Numoflayers\"]*network_info[\"Sizeoflayers\"]):\n",
    "            network_info[\"Mult\"+str(mult_value)].append(random.uniform(-1,1))\n",
    "    #Set biass\n",
    "    for layer in range(network_info[\"Numoflayers\"]*network_info[\"Sizeoflayers\"]):\n",
    "        network_info[\"Bias\"].append(random.uniform(-1,1))\n",
    "    #Activation function\n",
    "    for layer in range(network_info[\"Numoflayers\"]*network_info[\"Sizeoflayers\"]):\n",
    "        network_info[\"Act\"].append(random.randint(0,len(act_funct)-1))\n",
    "    #========================    \n",
    "    print(network_info)\n",
    "    return network_info\n",
    "Net=CreateNet(3,3)"
   ]
  },
  {
   "cell_type": "code",
   "execution_count": 31,
   "id": "2c9be37c",
   "metadata": {},
   "outputs": [
    {
     "data": {
      "text/plain": [
       "[0.566513473414793,\n",
       " -0.18509749499539163,\n",
       " 0.9681224874622736,\n",
       " 0.4649530610241517,\n",
       " 0.9603274100675538,\n",
       " 0.6357840639572956,\n",
       " 0.44509301937449863,\n",
       " -0.03501044619332405,\n",
       " 0.3509381054078704]"
      ]
     },
     "execution_count": 31,
     "metadata": {},
     "output_type": "execute_result"
    }
   ],
   "source": [
    "Net[\"Mult1\"]"
   ]
  },
  {
   "cell_type": "code",
   "execution_count": null,
   "id": "e129eed2",
   "metadata": {},
   "outputs": [],
   "source": [
    "layers=network_info[\"Numoflayers\"]\n",
    "current_layer=0\n",
    "current_layer=0"
   ]
  }
 ],
 "metadata": {
  "kernelspec": {
   "display_name": "Python 3 (ipykernel)",
   "language": "python",
   "name": "python3"
  },
  "language_info": {
   "codemirror_mode": {
    "name": "ipython",
    "version": 3
   },
   "file_extension": ".py",
   "mimetype": "text/x-python",
   "name": "python",
   "nbconvert_exporter": "python",
   "pygments_lexer": "ipython3",
   "version": "3.9.13"
  }
 },
 "nbformat": 4,
 "nbformat_minor": 5
}
