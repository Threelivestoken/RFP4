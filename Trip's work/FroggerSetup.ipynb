{
 "cells": [
  {
   "cell_type": "code",
   "execution_count": null,
   "id": "70872857",
   "metadata": {},
   "outputs": [],
   "source": [
    "!pip install gymnasium renderlab"
   ]
  },
  {
   "cell_type": "code",
   "execution_count": null,
   "id": "ac018d8b",
   "metadata": {},
   "outputs": [],
   "source": [
    "!pip install gymnasium[atari]"
   ]
  },
  {
   "cell_type": "code",
   "execution_count": null,
   "id": "66a9aa5c",
   "metadata": {},
   "outputs": [],
   "source": [
    "pip install gymnasium[accept-rom-license]"
   ]
  },
  {
   "cell_type": "code",
   "execution_count": null,
   "id": "674b4f25",
   "metadata": {},
   "outputs": [],
   "source": [
    "#!pip install atari-py"
   ]
  },
  {
   "cell_type": "code",
   "execution_count": null,
   "id": "ddf48849",
   "metadata": {},
   "outputs": [],
   "source": []
  },
  {
   "cell_type": "code",
   "execution_count": null,
   "id": "c2f9cf6d",
   "metadata": {},
   "outputs": [],
   "source": [
    "!pip install opencv-python"
   ]
  },
  {
   "cell_type": "code",
   "execution_count": null,
   "id": "ec1966b3",
   "metadata": {},
   "outputs": [],
   "source": [
    "!pip install pygame"
   ]
  },
  {
   "cell_type": "code",
   "execution_count": null,
   "id": "71949d7b",
   "metadata": {},
   "outputs": [],
   "source": [
    "#just for looking, delete later\n",
    "#1\n",
    "import gymnasium as gym\n",
    "import random\n",
    "\n",
    "#2\n",
    "#desc=[\"SFFFFFFF\", \"FHHHHHHH\", \"FFFFFFHF\", \"HFHFFFFF\", \"FFHHHFGF\"]\n",
    "\n",
    "#env = gym.make('FrozenLake-v1', desc=desc, map_name=\"4x5\", is_slippery=False, render_mode=\"human\") \n",
    "#observation, info = env.reset()\n",
    "\n",
    "#2.5\n",
    "#Seed=\"\"\n",
    "#for taco in range(len(desc)):\n",
    "#    Seed=Seed+desc[taco]\n",
    "#print(Seed)\n"
   ]
  },
  {
   "cell_type": "code",
   "execution_count": null,
   "id": "e1f0e4c8",
   "metadata": {},
   "outputs": [],
   "source": [
    "#====================="
   ]
  },
  {
   "cell_type": "code",
   "execution_count": 1,
   "id": "442b8fb6",
   "metadata": {},
   "outputs": [],
   "source": [
    "import gymnasium as gym"
   ]
  },
  {
   "cell_type": "code",
   "execution_count": 2,
   "id": "fef0f4a7",
   "metadata": {},
   "outputs": [],
   "source": [
    "environments=gym.envs.registry"
   ]
  },
  {
   "cell_type": "code",
   "execution_count": 5,
   "id": "e5a6fe70",
   "metadata": {},
   "outputs": [],
   "source": [
    "#for taco in environments.keys():\n",
    "#    print(taco)"
   ]
  },
  {
   "cell_type": "code",
   "execution_count": 4,
   "id": "df289e54",
   "metadata": {},
   "outputs": [],
   "source": [
    "env=gym.make('ALE/Frogger-v5', render_mode=\"human\")"
   ]
  },
  {
   "cell_type": "code",
   "execution_count": 6,
   "id": "cd685168",
   "metadata": {
    "scrolled": true
   },
   "outputs": [
    {
     "data": {
      "text/plain": [
       "(array([[[  0,   0,   0],\n",
       "         [  0,   0,   0],\n",
       "         [  0,   0,   0],\n",
       "         ...,\n",
       "         [  0,   0,   0],\n",
       "         [  0,   0,   0],\n",
       "         [  0,   0,   0]],\n",
       " \n",
       "        [[  0,   0,   0],\n",
       "         [  0,   0,   0],\n",
       "         [  0,   0,   0],\n",
       "         ...,\n",
       "         [  0,   0,   0],\n",
       "         [  0,   0,   0],\n",
       "         [  0,   0,   0]],\n",
       " \n",
       "        [[  0,   0,   0],\n",
       "         [  0,   0,   0],\n",
       "         [  0,   0,   0],\n",
       "         ...,\n",
       "         [  0,   0,   0],\n",
       "         [  0,   0,   0],\n",
       "         [  0,   0,   0]],\n",
       " \n",
       "        ...,\n",
       " \n",
       "        [[ 82, 126,  45],\n",
       "         [ 82, 126,  45],\n",
       "         [ 82, 126,  45],\n",
       "         ...,\n",
       "         [ 82, 126,  45],\n",
       "         [ 82, 126,  45],\n",
       "         [ 82, 126,  45]],\n",
       " \n",
       "        [[ 82, 126,  45],\n",
       "         [ 82, 126,  45],\n",
       "         [ 82, 126,  45],\n",
       "         ...,\n",
       "         [ 82, 126,  45],\n",
       "         [ 82, 126,  45],\n",
       "         [ 82, 126,  45]],\n",
       " \n",
       "        [[ 82, 126,  45],\n",
       "         [ 82, 126,  45],\n",
       "         [ 82, 126,  45],\n",
       "         ...,\n",
       "         [ 82, 126,  45],\n",
       "         [ 82, 126,  45],\n",
       "         [ 82, 126,  45]]], dtype=uint8),\n",
       " {'lives': 4, 'episode_frame_number': 0, 'frame_number': 0})"
      ]
     },
     "execution_count": 6,
     "metadata": {},
     "output_type": "execute_result"
    }
   ],
   "source": [
    "env.reset()\n",
    "#env.metadata['render_fps']=12\n",
    "#env.render()"
   ]
  },
  {
   "cell_type": "code",
   "execution_count": 7,
   "id": "dff85b89",
   "metadata": {},
   "outputs": [],
   "source": [
    "import random"
   ]
  },
  {
   "cell_type": "code",
   "execution_count": 8,
   "id": "df8f32cf",
   "metadata": {},
   "outputs": [],
   "source": [
    "for taco in range(100):\n",
    "    env.step(0)"
   ]
  },
  {
   "cell_type": "code",
   "execution_count": null,
   "id": "b37f9ca5",
   "metadata": {},
   "outputs": [],
   "source": [
    "score=[]\n",
    "step=[]\n",
    "for taco in range(100):\n",
    "    recent_step=random.randint(0,4)\n",
    "    step.append(recent_step)\n",
    "    score.append(env.step(recent_step)[3])\n",
    "env.reset()"
   ]
  },
  {
   "cell_type": "code",
   "execution_count": null,
   "id": "d235aedc",
   "metadata": {},
   "outputs": [],
   "source": [
    "step"
   ]
  },
  {
   "cell_type": "code",
   "execution_count": 15,
   "id": "8406703b",
   "metadata": {},
   "outputs": [
    {
     "data": {
      "text/plain": [
       "(array([[[  0,   0,   0],\n",
       "         [  0,   0,   0],\n",
       "         [  0,   0,   0],\n",
       "         ...,\n",
       "         [  0,   0,   0],\n",
       "         [  0,   0,   0],\n",
       "         [  0,   0,   0]],\n",
       " \n",
       "        [[  0,   0,   0],\n",
       "         [  0,   0,   0],\n",
       "         [  0,   0,   0],\n",
       "         ...,\n",
       "         [  0,   0,   0],\n",
       "         [  0,   0,   0],\n",
       "         [  0,   0,   0]],\n",
       " \n",
       "        [[  0,   0,   0],\n",
       "         [  0,   0,   0],\n",
       "         [  0,   0,   0],\n",
       "         ...,\n",
       "         [  0,   0,   0],\n",
       "         [  0,   0,   0],\n",
       "         [  0,   0,   0]],\n",
       " \n",
       "        ...,\n",
       " \n",
       "        [[ 82, 126,  45],\n",
       "         [ 82, 126,  45],\n",
       "         [ 82, 126,  45],\n",
       "         ...,\n",
       "         [ 82, 126,  45],\n",
       "         [ 82, 126,  45],\n",
       "         [ 82, 126,  45]],\n",
       " \n",
       "        [[ 82, 126,  45],\n",
       "         [ 82, 126,  45],\n",
       "         [ 82, 126,  45],\n",
       "         ...,\n",
       "         [ 82, 126,  45],\n",
       "         [ 82, 126,  45],\n",
       "         [ 82, 126,  45]],\n",
       " \n",
       "        [[ 82, 126,  45],\n",
       "         [ 82, 126,  45],\n",
       "         [ 82, 126,  45],\n",
       "         ...,\n",
       "         [ 82, 126,  45],\n",
       "         [ 82, 126,  45],\n",
       "         [ 82, 126,  45]]], dtype=uint8),\n",
       " 0.0,\n",
       " False,\n",
       " False,\n",
       " {'lives': 4, 'episode_frame_number': 424, 'frame_number': 424})"
      ]
     },
     "execution_count": 15,
     "metadata": {},
     "output_type": "execute_result"
    }
   ],
   "source": [
    "env.step(0)"
   ]
  },
  {
   "cell_type": "code",
   "execution_count": null,
   "id": "2e2f12d4",
   "metadata": {},
   "outputs": [],
   "source": []
  },
  {
   "cell_type": "code",
   "execution_count": null,
   "id": "84d1d704",
   "metadata": {},
   "outputs": [],
   "source": []
  },
  {
   "cell_type": "code",
   "execution_count": null,
   "id": "3460e706",
   "metadata": {},
   "outputs": [],
   "source": []
  },
  {
   "cell_type": "code",
   "execution_count": null,
   "id": "d4f3a027",
   "metadata": {},
   "outputs": [],
   "source": []
  }
 ],
 "metadata": {
  "kernelspec": {
   "display_name": "Python 3 (ipykernel)",
   "language": "python",
   "name": "python3"
  },
  "language_info": {
   "codemirror_mode": {
    "name": "ipython",
    "version": 3
   },
   "file_extension": ".py",
   "mimetype": "text/x-python",
   "name": "python",
   "nbconvert_exporter": "python",
   "pygments_lexer": "ipython3",
   "version": "3.9.13"
  }
 },
 "nbformat": 4,
 "nbformat_minor": 5
}
