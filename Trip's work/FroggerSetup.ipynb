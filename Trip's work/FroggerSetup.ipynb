{
 "cells": [
  {
   "cell_type": "code",
   "execution_count": null,
   "id": "f8501ede",
   "metadata": {},
   "outputs": [],
   "source": [
    "#1\n",
    "import gymnasium as gym\n",
    "import random\n",
    "\n",
    "#2\n",
    "#desc=[\"SFFFFFFF\", \"FHHHHHHH\", \"FFFFFFHF\", \"HFHFFFFF\", \"FFHHHFGF\"]\n",
    "env=gymnasium.make(\"ALE/Frogger-v5\")\n",
    "#env = gym.make('FrozenLake-v1', desc=desc, map_name=\"4x5\", is_slippery=False, render_mode=\"human\") \n",
    "#observation, info = env.reset()\n",
    "\n",
    "#2.5\n",
    "#Seed=\"\"\n",
    "#for taco in range(len(desc)):\n",
    "#    Seed=Seed+desc[taco]\n",
    "#print(Seed)\n"
   ]
  }
 ],
 "metadata": {
  "kernelspec": {
   "display_name": "Python 3 (ipykernel)",
   "language": "python",
   "name": "python3"
  },
  "language_info": {
   "codemirror_mode": {
    "name": "ipython",
    "version": 3
   },
   "file_extension": ".py",
   "mimetype": "text/x-python",
   "name": "python",
   "nbconvert_exporter": "python",
   "pygments_lexer": "ipython3",
   "version": "3.9.13"
  }
 },
 "nbformat": 4,
 "nbformat_minor": 5
}
