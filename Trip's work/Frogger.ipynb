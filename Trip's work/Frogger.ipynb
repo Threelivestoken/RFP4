{
 "cells": [
  {
   "cell_type": "code",
   "execution_count": null,
   "id": "674876b3",
   "metadata": {},
   "outputs": [],
   "source": [
    "#install stuff for frogger game thing\n",
    "!pip install gymnasium\n",
    "!pip install gymnasium[atari]\n",
    "!pip install gymnasium[accept-rom-license]"
   ]
  },
  {
   "cell_type": "code",
   "execution_count": null,
   "id": "ac59c26b",
   "metadata": {},
   "outputs": [],
   "source": [
    "import gymnasium as gym\n",
    "import random"
   ]
  },
  {
   "cell_type": "code",
   "execution_count": null,
   "id": "b82b4527",
   "metadata": {},
   "outputs": [],
   "source": [
    "enviros = gym.envs.registry\n",
    "#for e in enviros.keys():\n",
    "#    print(e)"
   ]
  },
  {
   "cell_type": "code",
   "execution_count": null,
   "id": "57e9eee3",
   "metadata": {},
   "outputs": [],
   "source": [
    "env = gym.make('ALE/Frogger-v5', render_mode=\"human\")\n",
    "k=env.reset()"
   ]
  },
  {
   "cell_type": "code",
   "execution_count": null,
   "id": "715d4f7f",
   "metadata": {
    "scrolled": true
   },
   "outputs": [],
   "source": [
    "for taco in range(50):#steps until music is over\n",
    "    env.step(0)\n",
    "print(\"Done\")\n",
    "#move randomly 100 times\n",
    "#for taco in range(100):\n",
    "#    env.step(random.randint(1,4))\n",
    "env.step(1)"
   ]
  },
  {
   "cell_type": "code",
   "execution_count": null,
   "id": "1adf3170",
   "metadata": {},
   "outputs": [],
   "source": []
  },
  {
   "cell_type": "code",
   "execution_count": null,
   "id": "fab09632",
   "metadata": {},
   "outputs": [],
   "source": []
  },
  {
   "cell_type": "code",
   "execution_count": null,
   "id": "6a7e9275",
   "metadata": {},
   "outputs": [],
   "source": []
  },
  {
   "cell_type": "code",
   "execution_count": null,
   "id": "7cad355b",
   "metadata": {},
   "outputs": [],
   "source": []
  },
  {
   "cell_type": "code",
   "execution_count": null,
   "id": "5d281dc8",
   "metadata": {
    "scrolled": true
   },
   "outputs": [],
   "source": [
    "#just testing out types of stuff"
   ]
  },
  {
   "cell_type": "code",
   "execution_count": null,
   "id": "b8042f94",
   "metadata": {},
   "outputs": [],
   "source": [
    "import seaborn as sns\n",
    "import pandas as pd"
   ]
  },
  {
   "cell_type": "code",
   "execution_count": null,
   "id": "6bf79567",
   "metadata": {},
   "outputs": [],
   "source": [
    "x=[0]\n",
    "y=[0]\n",
    "z=[]\n",
    "it=0\n",
    "\n",
    "for taco in range(5):\n",
    "    #make temporary lists to use\n",
    "    xtemp=[]\n",
    "    ytemp=[]\n",
    "    #reset the original lists\n",
    "    \n",
    "    \n",
    "    for taco in range(len(x)):\n",
    "        xtemp.append(y[taco])\n",
    "        ytemp.append(x[taco])\n",
    "    for taco in range(len(x)):\n",
    "        xtemp.append(x[taco])\n",
    "        ytemp.append(2**it+y[taco])\n",
    "    for taco in range(len(x)):\n",
    "        xtemp.append(2**it+x[taco])\n",
    "        ytemp.append(2**it+y[taco])\n",
    "    for taco in range(len(x)):\n",
    "        xtemp.append(2**(it+1)-1-y[taco])\n",
    "        ytemp.append(2**it-1-x[taco])\n",
    "    x=xtemp\n",
    "    y=ytemp\n",
    "    \n",
    "    #x1=(y0,x0,2**it+x0,2**(it+1)-1-y0)\n",
    "    #y1=x0,2**it+y0,2**it+y0,2**it-1-x0\n",
    "    it+=1\n",
    "for taco in range(len(x)):\n",
    "    z.append(taco)\n",
    "data=pd.DataFrame({\"x\":x,\"y\":y,\"z\":z})\n",
    "sns.histplot(data=data,x=\"x\",y=\"y\",hue=\"z\",bins=2**(it-1))"
   ]
  },
  {
   "cell_type": "code",
   "execution_count": null,
   "id": "c8c0b73c",
   "metadata": {},
   "outputs": [],
   "source": [
    "#Installing stuff for neural network stuff"
   ]
  },
  {
   "cell_type": "code",
   "execution_count": null,
   "id": "901b982d",
   "metadata": {},
   "outputs": [],
   "source": [
    "!pip install tensorflow\n",
    "!pip install keras"
   ]
  },
  {
   "cell_type": "code",
   "execution_count": null,
   "id": "493edbbc",
   "metadata": {},
   "outputs": [],
   "source": [
    "import tensorflow as tf\n",
    "import keras as ks"
   ]
  },
  {
   "cell_type": "code",
   "execution_count": null,
   "id": "18fc680e",
   "metadata": {},
   "outputs": [],
   "source": [
    "from keras.models import Sequential\n",
    "from keras.layers import Convolution2D\n"
   ]
  },
  {
   "cell_type": "code",
   "execution_count": null,
   "id": "41a723fb",
   "metadata": {},
   "outputs": [],
   "source": [
    "model = Sequential()"
   ]
  },
  {
   "cell_type": "code",
   "execution_count": null,
   "id": "ca0c0c76",
   "metadata": {},
   "outputs": [],
   "source": [
    "height,width,channels=env.observation_space.shape"
   ]
  },
  {
   "cell_type": "code",
   "execution_count": null,
   "id": "9865ea71",
   "metadata": {},
   "outputs": [],
   "source": []
  },
  {
   "cell_type": "code",
   "execution_count": null,
   "id": "27039332",
   "metadata": {},
   "outputs": [],
   "source": [
    "model.add(Convolution2D(4,(8,8),strides=(4,4),activation=\"relu\",input_shape=(\"3\")))\n",
    "#,input_shape=(3),height=(3),width=(4))"
   ]
  },
  {
   "cell_type": "code",
   "execution_count": null,
   "id": "cd25b81c",
   "metadata": {},
   "outputs": [],
   "source": []
  },
  {
   "cell_type": "code",
   "execution_count": null,
   "id": "a687cef0",
   "metadata": {},
   "outputs": [],
   "source": [
    "l=1\n",
    "e=0\n",
    "for taco in range(1,100):\n",
    "    e+=1/l\n",
    "    l=l*taco\n",
    "#print(e)\n",
    "x=1\n",
    "e=(1+1/100)**100\n",
    "print((e**x-e**(-x))/(e**x+e**(-x)))"
   ]
  },
  {
   "cell_type": "code",
   "execution_count": null,
   "id": "39339a8c",
   "metadata": {},
   "outputs": [],
   "source": [
    "\n"
   ]
  },
  {
   "cell_type": "code",
   "execution_count": null,
   "id": "dee89b32",
   "metadata": {},
   "outputs": [],
   "source": [
    "#neural network with nodes, the inputs, multipliers and bias for it\n",
    "def createNN(nodes,layers,Numofconnections,Random):\n",
    "    #check to prevent not matching length of nodes and the amount of layers\n",
    "    if not type(nodes) in [int,list]:#check to see if the nodes should all be uniform/have the same value, this check is not done yet only started\n",
    "        print(\"There are no valid node value(s)!\")\n",
    "    else:\n",
    "        if len(nodes)<layers:\n",
    "            print(\"Nodes<layers\")\n",
    "        else:\n",
    "            \n",
    "            exampleNN={\n",
    "                \"Nodes\":nodes,#its a list of the different lengths\n",
    "                \"Layers\":layers,\n",
    "                #\"1\":[\"Current value\",\"Bias\",\"input\",\"Multipliers\"]\n",
    "            }\n",
    "            #make the empty layers\n",
    "            for layer in range(layers):\n",
    "                exampleNN[\"L\"+str(layer)]=[]\n",
    "                \n",
    "            #fill the empty layers\n",
    "            for layer in range(layers):\n",
    "                for node in range(nodes[layer]):#going through the list\n",
    "                    exampleNN[\"L\"+str(layer)].append(0)\n",
    "            \n",
    "            return exampleNN\n",
    "NN=createNN([4,4,4],3,3,0)\n",
    "print(NN)"
   ]
  },
  {
   "cell_type": "code",
   "execution_count": null,
   "id": "0e51fe64",
   "metadata": {},
   "outputs": [],
   "source": []
  },
  {
   "cell_type": "code",
   "execution_count": null,
   "id": "46451554",
   "metadata": {},
   "outputs": [],
   "source": []
  }
 ],
 "metadata": {
  "kernelspec": {
   "display_name": "Python 3 (ipykernel)",
   "language": "python",
   "name": "python3"
  },
  "language_info": {
   "codemirror_mode": {
    "name": "ipython",
    "version": 3
   },
   "file_extension": ".py",
   "mimetype": "text/x-python",
   "name": "python",
   "nbconvert_exporter": "python",
   "pygments_lexer": "ipython3",
   "version": "3.9.13"
  }
 },
 "nbformat": 4,
 "nbformat_minor": 5
}
