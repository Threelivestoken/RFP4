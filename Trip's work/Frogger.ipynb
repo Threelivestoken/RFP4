{
 "cells": [
  {
   "cell_type": "code",
   "execution_count": null,
   "id": "674876b3",
   "metadata": {},
   "outputs": [],
   "source": [
    "#install stuff for frogger game thing\n",
    "!pip install gymnasium\n",
    "!pip install gymnasium[atari]\n",
    "!pip install gymnasium[accept-rom-license]"
   ]
  },
  {
   "cell_type": "code",
   "execution_count": 40,
   "id": "ac59c26b",
   "metadata": {},
   "outputs": [],
   "source": [
    "import gymnasium as gym\n",
    "import random"
   ]
  },
  {
   "cell_type": "code",
   "execution_count": 41,
   "id": "b82b4527",
   "metadata": {},
   "outputs": [],
   "source": [
    "enviros = gym.envs.registry\n",
    "#for e in enviros.keys():\n",
    "#    print(e)"
   ]
  },
  {
   "cell_type": "code",
   "execution_count": 42,
   "id": "57e9eee3",
   "metadata": {},
   "outputs": [],
   "source": [
    "env = gym.make('ALE/Frogger-v5', render_mode=\"human\")\n",
    "k=env.reset()"
   ]
  },
  {
   "cell_type": "code",
   "execution_count": 43,
   "id": "715d4f7f",
   "metadata": {
    "scrolled": true
   },
   "outputs": [
    {
     "name": "stdout",
     "output_type": "stream",
     "text": [
      "Done\n"
     ]
    },
    {
     "data": {
      "text/plain": [
       "(array([[[  0,   0,   0],\n",
       "         [  0,   0,   0],\n",
       "         [  0,   0,   0],\n",
       "         ...,\n",
       "         [  0,   0,   0],\n",
       "         [  0,   0,   0],\n",
       "         [  0,   0,   0]],\n",
       " \n",
       "        [[  0,   0,   0],\n",
       "         [  0,   0,   0],\n",
       "         [  0,   0,   0],\n",
       "         ...,\n",
       "         [  0,   0,   0],\n",
       "         [  0,   0,   0],\n",
       "         [  0,   0,   0]],\n",
       " \n",
       "        [[  0,   0,   0],\n",
       "         [  0,   0,   0],\n",
       "         [  0,   0,   0],\n",
       "         ...,\n",
       "         [  0,   0,   0],\n",
       "         [  0,   0,   0],\n",
       "         [  0,   0,   0]],\n",
       " \n",
       "        ...,\n",
       " \n",
       "        [[ 82, 126,  45],\n",
       "         [ 82, 126,  45],\n",
       "         [ 82, 126,  45],\n",
       "         ...,\n",
       "         [ 82, 126,  45],\n",
       "         [ 82, 126,  45],\n",
       "         [ 82, 126,  45]],\n",
       " \n",
       "        [[ 82, 126,  45],\n",
       "         [ 82, 126,  45],\n",
       "         [ 82, 126,  45],\n",
       "         ...,\n",
       "         [ 82, 126,  45],\n",
       "         [ 82, 126,  45],\n",
       "         [ 82, 126,  45]],\n",
       " \n",
       "        [[ 82, 126,  45],\n",
       "         [ 82, 126,  45],\n",
       "         [ 82, 126,  45],\n",
       "         ...,\n",
       "         [ 82, 126,  45],\n",
       "         [ 82, 126,  45],\n",
       "         [ 82, 126,  45]]], dtype=uint8),\n",
       " 0.0,\n",
       " False,\n",
       " False,\n",
       " {'lives': 4, 'episode_frame_number': 204, 'frame_number': 204})"
      ]
     },
     "execution_count": 43,
     "metadata": {},
     "output_type": "execute_result"
    }
   ],
   "source": [
    "for taco in range(50):#steps until music is over\n",
    "    env.step(0)\n",
    "print(\"Done\")\n",
    "#move randomly 100 times\n",
    "#for taco in range(100):\n",
    "#    env.step(random.randint(1,4))\n",
    "env.step(1)"
   ]
  },
  {
   "cell_type": "code",
   "execution_count": null,
   "id": "1adf3170",
   "metadata": {},
   "outputs": [],
   "source": []
  },
  {
   "cell_type": "code",
   "execution_count": null,
   "id": "fab09632",
   "metadata": {},
   "outputs": [],
   "source": []
  },
  {
   "cell_type": "code",
   "execution_count": null,
   "id": "6a7e9275",
   "metadata": {},
   "outputs": [],
   "source": []
  },
  {
   "cell_type": "code",
   "execution_count": null,
   "id": "7cad355b",
   "metadata": {},
   "outputs": [],
   "source": []
  },
  {
   "cell_type": "code",
   "execution_count": null,
   "id": "5d281dc8",
   "metadata": {
    "scrolled": true
   },
   "outputs": [],
   "source": [
    "#just testing out types of stuff"
   ]
  },
  {
   "cell_type": "code",
   "execution_count": null,
   "id": "b8042f94",
   "metadata": {},
   "outputs": [],
   "source": [
    "import seaborn as sns\n",
    "import pandas as pd"
   ]
  },
  {
   "cell_type": "code",
   "execution_count": null,
   "id": "6bf79567",
   "metadata": {},
   "outputs": [],
   "source": [
    "x=[0]\n",
    "y=[0]\n",
    "z=[]\n",
    "it=0\n",
    "\n",
    "for taco in range(5):\n",
    "    #make temporary lists to use\n",
    "    xtemp=[]\n",
    "    ytemp=[]\n",
    "    #reset the original lists\n",
    "    \n",
    "    \n",
    "    for taco in range(len(x)):\n",
    "        xtemp.append(y[taco])\n",
    "        ytemp.append(x[taco])\n",
    "    for taco in range(len(x)):\n",
    "        xtemp.append(x[taco])\n",
    "        ytemp.append(2**it+y[taco])\n",
    "    for taco in range(len(x)):\n",
    "        xtemp.append(2**it+x[taco])\n",
    "        ytemp.append(2**it+y[taco])\n",
    "    for taco in range(len(x)):\n",
    "        xtemp.append(2**(it+1)-1-y[taco])\n",
    "        ytemp.append(2**it-1-x[taco])\n",
    "    x=xtemp\n",
    "    y=ytemp\n",
    "    \n",
    "    #x1=(y0,x0,2**it+x0,2**(it+1)-1-y0)\n",
    "    #y1=x0,2**it+y0,2**it+y0,2**it-1-x0\n",
    "    it+=1\n",
    "for taco in range(len(x)):\n",
    "    z.append(taco)\n",
    "data=pd.DataFrame({\"x\":x,\"y\":y,\"z\":z})\n",
    "sns.histplot(data=data,x=\"x\",y=\"y\",hue=\"z\",bins=2**(it-1))"
   ]
  },
  {
   "cell_type": "code",
   "execution_count": null,
   "id": "c8c0b73c",
   "metadata": {},
   "outputs": [],
   "source": [
    "#Installing stuff for neural network stuff"
   ]
  },
  {
   "cell_type": "code",
   "execution_count": null,
   "id": "901b982d",
   "metadata": {},
   "outputs": [],
   "source": [
    "!pip install tensorflow\n",
    "!pip install keras"
   ]
  },
  {
   "cell_type": "code",
   "execution_count": 1,
   "id": "493edbbc",
   "metadata": {},
   "outputs": [
    {
     "name": "stderr",
     "output_type": "stream",
     "text": [
      "C:\\ProgramData\\Anaconda3\\lib\\site-packages\\scipy\\__init__.py:155: UserWarning: A NumPy version >=1.18.5 and <1.25.0 is required for this version of SciPy (detected version 1.26.4\n",
      "  warnings.warn(f\"A NumPy version >={np_minversion} and <{np_maxversion}\"\n"
     ]
    }
   ],
   "source": [
    "import tensorflow as tf\n",
    "import keras as ks"
   ]
  },
  {
   "cell_type": "code",
   "execution_count": 10,
   "id": "18fc680e",
   "metadata": {},
   "outputs": [],
   "source": [
    "from keras.models import Sequential\n",
    "from keras.layers import Convolution2D\n"
   ]
  },
  {
   "cell_type": "code",
   "execution_count": 58,
   "id": "41a723fb",
   "metadata": {},
   "outputs": [],
   "source": [
    "model = Sequential()"
   ]
  },
  {
   "cell_type": "code",
   "execution_count": 60,
   "id": "ca0c0c76",
   "metadata": {},
   "outputs": [],
   "source": [
    "height,width,channels=env.observation_space.shape"
   ]
  },
  {
   "cell_type": "code",
   "execution_count": null,
   "id": "9865ea71",
   "metadata": {},
   "outputs": [],
   "source": []
  },
  {
   "cell_type": "code",
   "execution_count": 62,
   "id": "27039332",
   "metadata": {},
   "outputs": [
    {
     "ename": "ValueError",
     "evalue": "Cannot convert '('3',)' to a shape. Found invalid entry '3' of type '<class 'str'>'. ",
     "output_type": "error",
     "traceback": [
      "\u001b[1;31m---------------------------------------------------------------------------\u001b[0m",
      "\u001b[1;31mValueError\u001b[0m                                Traceback (most recent call last)",
      "\u001b[1;32m~\\AppData\\Local\\Temp\\ipykernel_10104\\3103141493.py\u001b[0m in \u001b[0;36m<module>\u001b[1;34m\u001b[0m\n\u001b[1;32m----> 1\u001b[1;33m \u001b[0mmodel\u001b[0m\u001b[1;33m.\u001b[0m\u001b[0madd\u001b[0m\u001b[1;33m(\u001b[0m\u001b[0mConvolution2D\u001b[0m\u001b[1;33m(\u001b[0m\u001b[1;36m4\u001b[0m\u001b[1;33m,\u001b[0m\u001b[1;33m(\u001b[0m\u001b[1;36m8\u001b[0m\u001b[1;33m,\u001b[0m\u001b[1;36m8\u001b[0m\u001b[1;33m)\u001b[0m\u001b[1;33m,\u001b[0m\u001b[0mstrides\u001b[0m\u001b[1;33m=\u001b[0m\u001b[1;33m(\u001b[0m\u001b[1;36m4\u001b[0m\u001b[1;33m,\u001b[0m\u001b[1;36m4\u001b[0m\u001b[1;33m)\u001b[0m\u001b[1;33m,\u001b[0m\u001b[0mactivation\u001b[0m\u001b[1;33m=\u001b[0m\u001b[1;34m\"relu\"\u001b[0m\u001b[1;33m,\u001b[0m\u001b[0minput_shape\u001b[0m\u001b[1;33m=\u001b[0m\u001b[1;33m(\u001b[0m\u001b[1;34m\"3\"\u001b[0m\u001b[1;33m)\u001b[0m\u001b[1;33m)\u001b[0m\u001b[1;33m)\u001b[0m\u001b[1;33m\u001b[0m\u001b[1;33m\u001b[0m\u001b[0m\n\u001b[0m\u001b[0;32m      2\u001b[0m \u001b[1;31m#,input_shape=(3),height=(3),width=(4))\u001b[0m\u001b[1;33m\u001b[0m\u001b[1;33m\u001b[0m\u001b[0m\n",
      "\u001b[1;32m~\\AppData\\Roaming\\Python\\Python39\\site-packages\\keras\\src\\models\\sequential.py\u001b[0m in \u001b[0;36madd\u001b[1;34m(self, layer, rebuild)\u001b[0m\n\u001b[0;32m     84\u001b[0m         \u001b[1;32mif\u001b[0m \u001b[1;32mnot\u001b[0m \u001b[0mself\u001b[0m\u001b[1;33m.\u001b[0m\u001b[0m_layers\u001b[0m\u001b[1;33m:\u001b[0m\u001b[1;33m\u001b[0m\u001b[1;33m\u001b[0m\u001b[0m\n\u001b[0;32m     85\u001b[0m             \u001b[1;32mif\u001b[0m \u001b[0mgetattr\u001b[0m\u001b[1;33m(\u001b[0m\u001b[0mlayer\u001b[0m\u001b[1;33m,\u001b[0m \u001b[1;34m\"_input_shape_arg\"\u001b[0m\u001b[1;33m,\u001b[0m \u001b[1;32mNone\u001b[0m\u001b[1;33m)\u001b[0m \u001b[1;32mis\u001b[0m \u001b[1;32mnot\u001b[0m \u001b[1;32mNone\u001b[0m\u001b[1;33m:\u001b[0m\u001b[1;33m\u001b[0m\u001b[1;33m\u001b[0m\u001b[0m\n\u001b[1;32m---> 86\u001b[1;33m                 \u001b[0mself\u001b[0m\u001b[1;33m.\u001b[0m\u001b[0madd\u001b[0m\u001b[1;33m(\u001b[0m\u001b[0mInputLayer\u001b[0m\u001b[1;33m(\u001b[0m\u001b[0mshape\u001b[0m\u001b[1;33m=\u001b[0m\u001b[0mlayer\u001b[0m\u001b[1;33m.\u001b[0m\u001b[0m_input_shape_arg\u001b[0m\u001b[1;33m)\u001b[0m\u001b[1;33m)\u001b[0m\u001b[1;33m\u001b[0m\u001b[1;33m\u001b[0m\u001b[0m\n\u001b[0m\u001b[0;32m     87\u001b[0m \u001b[1;33m\u001b[0m\u001b[0m\n\u001b[0;32m     88\u001b[0m         \u001b[1;31m# If we are passed a Keras tensor created by keras.Input(), we\u001b[0m\u001b[1;33m\u001b[0m\u001b[1;33m\u001b[0m\u001b[0m\n",
      "\u001b[1;32m~\\AppData\\Roaming\\Python\\Python39\\site-packages\\keras\\src\\layers\\core\\input_layer.py\u001b[0m in \u001b[0;36m__init__\u001b[1;34m(self, shape, batch_size, dtype, sparse, batch_shape, input_tensor, name, **kwargs)\u001b[0m\n\u001b[0;32m     44\u001b[0m \u001b[1;33m\u001b[0m\u001b[0m\n\u001b[0;32m     45\u001b[0m         \u001b[1;32mif\u001b[0m \u001b[0mshape\u001b[0m \u001b[1;32mis\u001b[0m \u001b[1;32mnot\u001b[0m \u001b[1;32mNone\u001b[0m\u001b[1;33m:\u001b[0m\u001b[1;33m\u001b[0m\u001b[1;33m\u001b[0m\u001b[0m\n\u001b[1;32m---> 46\u001b[1;33m             \u001b[0mshape\u001b[0m \u001b[1;33m=\u001b[0m \u001b[0mbackend\u001b[0m\u001b[1;33m.\u001b[0m\u001b[0mstandardize_shape\u001b[0m\u001b[1;33m(\u001b[0m\u001b[0mshape\u001b[0m\u001b[1;33m)\u001b[0m\u001b[1;33m\u001b[0m\u001b[1;33m\u001b[0m\u001b[0m\n\u001b[0m\u001b[0;32m     47\u001b[0m             \u001b[0mbatch_shape\u001b[0m \u001b[1;33m=\u001b[0m \u001b[1;33m(\u001b[0m\u001b[0mbatch_size\u001b[0m\u001b[1;33m,\u001b[0m\u001b[1;33m)\u001b[0m \u001b[1;33m+\u001b[0m \u001b[0mshape\u001b[0m\u001b[1;33m\u001b[0m\u001b[1;33m\u001b[0m\u001b[0m\n\u001b[0;32m     48\u001b[0m         \u001b[0mself\u001b[0m\u001b[1;33m.\u001b[0m\u001b[0mbatch_shape\u001b[0m \u001b[1;33m=\u001b[0m \u001b[0mtuple\u001b[0m\u001b[1;33m(\u001b[0m\u001b[0mbatch_shape\u001b[0m\u001b[1;33m)\u001b[0m\u001b[1;33m\u001b[0m\u001b[1;33m\u001b[0m\u001b[0m\n",
      "\u001b[1;32m~\\AppData\\Roaming\\Python\\Python39\\site-packages\\keras\\src\\backend\\common\\variables.py\u001b[0m in \u001b[0;36mstandardize_shape\u001b[1;34m(shape)\u001b[0m\n\u001b[0;32m    522\u001b[0m             \u001b[1;32mcontinue\u001b[0m\u001b[1;33m\u001b[0m\u001b[1;33m\u001b[0m\u001b[0m\n\u001b[0;32m    523\u001b[0m         \u001b[1;32mif\u001b[0m \u001b[1;32mnot\u001b[0m \u001b[0mis_int_dtype\u001b[0m\u001b[1;33m(\u001b[0m\u001b[0mtype\u001b[0m\u001b[1;33m(\u001b[0m\u001b[0me\u001b[0m\u001b[1;33m)\u001b[0m\u001b[1;33m)\u001b[0m\u001b[1;33m:\u001b[0m\u001b[1;33m\u001b[0m\u001b[1;33m\u001b[0m\u001b[0m\n\u001b[1;32m--> 524\u001b[1;33m             raise ValueError(\n\u001b[0m\u001b[0;32m    525\u001b[0m                 \u001b[1;34mf\"Cannot convert '{shape}' to a shape. \"\u001b[0m\u001b[1;33m\u001b[0m\u001b[1;33m\u001b[0m\u001b[0m\n\u001b[0;32m    526\u001b[0m                 \u001b[1;34mf\"Found invalid entry '{e}' of type '{type(e)}'. \"\u001b[0m\u001b[1;33m\u001b[0m\u001b[1;33m\u001b[0m\u001b[0m\n",
      "\u001b[1;31mValueError\u001b[0m: Cannot convert '('3',)' to a shape. Found invalid entry '3' of type '<class 'str'>'. "
     ]
    }
   ],
   "source": [
    "model.add(Convolution2D(4,(8,8),strides=(4,4),activation=\"relu\",input_shape=(\"3\")))\n",
    "#,input_shape=(3),height=(3),width=(4))"
   ]
  },
  {
   "cell_type": "code",
   "execution_count": 33,
   "id": "cd25b81c",
   "metadata": {},
   "outputs": [
    {
     "name": "stdout",
     "output_type": "stream",
     "text": [
      "0.7595002757768375\n"
     ]
    }
   ],
   "source": []
  },
  {
   "cell_type": "code",
   "execution_count": 38,
   "id": "a687cef0",
   "metadata": {},
   "outputs": [
    {
     "name": "stdout",
     "output_type": "stream",
     "text": [
      "0.7595002757768375\n"
     ]
    }
   ],
   "source": [
    "l=1\n",
    "e=0\n",
    "for taco in range(1,100):\n",
    "    e+=1/l\n",
    "    l=l*taco\n",
    "#print(e)\n",
    "x=1\n",
    "e=(1+1/100)**100\n",
    "print((e**x-e**(-x))/(e**x+e**(-x)))"
   ]
  },
  {
   "cell_type": "code",
   "execution_count": null,
   "id": "39339a8c",
   "metadata": {},
   "outputs": [],
   "source": [
    "\n"
   ]
  },
  {
   "cell_type": "code",
   "execution_count": 83,
   "id": "dee89b32",
   "metadata": {},
   "outputs": [
    {
     "name": "stdout",
     "output_type": "stream",
     "text": [
      "There are no valid node value(s)!\n",
      "None\n"
     ]
    }
   ],
   "source": [
    "#neural network with nodes, the inputs, multipliers and bias for it\n",
    "def createNN(nodes,layers,Numofconnections,Random):\n",
    "    #check to prevent not matching length of nodes and the amount of layers\n",
    "    if not type(nodes) in [int,list]:#check to see if the nodes should all be uniform/have the same value, this check is not done yet only started\n",
    "        print(\"There are no valid node value(s)!\")\n",
    "    else:\n",
    "        if len(nodes)<layers:\n",
    "            print(\"Nodes<layers\")\n",
    "        else:\n",
    "            \n",
    "            exampleNN={\n",
    "                \"Nodes\":nodes,#its a list of the different lengths\n",
    "                \"Layers\":layers,\n",
    "                #\"1\":[\"Current value\",\"Bias\",\"input\",\"Multipliers\"]\n",
    "            }\n",
    "            #make the empty layers\n",
    "            for layer in range(layers):\n",
    "                exampleNN[\"L\"+str(layer)]=[]\n",
    "                \n",
    "            #fill the empty layers\n",
    "            for layer in range(layers):\n",
    "                for node in range(nodes[layer]):#going through the list\n",
    "                    exampleNN[\"L\"+str(layer)].append(0)\n",
    "            \n",
    "            return exampleNN\n",
    "NN=createNN([4,4,4],3,3,0)\n",
    "print(NN)"
   ]
  },
  {
   "cell_type": "code",
   "execution_count": null,
   "id": "0e51fe64",
   "metadata": {},
   "outputs": [],
   "source": []
  },
  {
   "cell_type": "code",
   "execution_count": null,
   "id": "46451554",
   "metadata": {},
   "outputs": [],
   "source": []
  }
 ],
 "metadata": {
  "kernelspec": {
   "display_name": "Python 3 (ipykernel)",
   "language": "python",
   "name": "python3"
  },
  "language_info": {
   "codemirror_mode": {
    "name": "ipython",
    "version": 3
   },
   "file_extension": ".py",
   "mimetype": "text/x-python",
   "name": "python",
   "nbconvert_exporter": "python",
   "pygments_lexer": "ipython3",
   "version": "3.9.13"
  }
 },
 "nbformat": 4,
 "nbformat_minor": 5
}
