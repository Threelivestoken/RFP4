{
 "cells": [
  {
   "cell_type": "code",
   "execution_count": null,
   "id": "820f2545",
   "metadata": {},
   "outputs": [],
   "source": [
    "!pip install gymnasium renderlab"
   ]
  },
  {
   "cell_type": "code",
   "execution_count": null,
   "id": "dde72c16",
   "metadata": {},
   "outputs": [],
   "source": [
    "!pip install opencv-python"
   ]
  },
  {
   "cell_type": "code",
   "execution_count": null,
   "id": "b227246a",
   "metadata": {},
   "outputs": [],
   "source": [
    "!pip install pygame"
   ]
  },
  {
   "cell_type": "code",
   "execution_count": null,
   "id": "f006e28c",
   "metadata": {},
   "outputs": [],
   "source": [
    "#1\n",
    "import gymnasium as gym\n",
    "import random\n",
    "\n",
    "#2\n",
    "desc=[\"SFFFFFFF\", \"FHHHHHHH\", \"FFFFFFHF\", \"HFHFFFFF\", \"FFHHHFGF\"]\n",
    "\n",
    "env = gym.make('FrozenLake-v1', desc=desc, map_name=\"4x5\", is_slippery=False, render_mode=\"human\") \n",
    "observation, info = env.reset()\n",
    "\n",
    "#2.5\n",
    "Seed=\"\"\n",
    "for taco in range(len(desc)):\n",
    "    Seed=Seed+desc[taco]\n",
    "print(Seed)\n"
   ]
  },
  {
   "cell_type": "code",
   "execution_count": null,
   "id": "34153804",
   "metadata": {},
   "outputs": [],
   "source": [
    "\n",
    "\n",
    "\n",
    "\n",
    "\n",
    "\n",
    "#run info\n",
    "stats={\"run\":[],\"end\":[],\"steps\":[]}\n",
    "\n",
    "\n",
    "\n",
    "\n",
    "run=0\n",
    "#for burrito\n",
    "#3, Initialize function\n",
    "def initialize_Q_table(spaces):\n",
    "    spaces=8*5 #number of spaces, dont change!\n",
    "    Q_table={\n",
    "        \"info\":[\"left\",\"down\",\"right\",\"up\"],\n",
    "        \"0\":[],#[0,0,0,0,0,0,0,0,0,0,0,0,0,0,0,0,0,0,0,0],#left\n",
    "        \"1\":[],#[1,0,0,0,1,0,0,0,0,1,0,0,0,1,0,0,0,0,0,0],#down\n",
    "        \"2\":[],#[0,0,0,0,0,0,0,0,1,0,0,0,0,0,0,0,0,1,0,0],#right\n",
    "        \"3\":[]}#[0,0,0,0,0,0,0,0,0,0,0,0,0,0,0,0,0,0,0,0]}#up\n",
    "    for taco in range(spaces):\n",
    "        Q_table[\"0\"].append(0)#random.uniform(0, 1)\n",
    "        Q_table[\"1\"].append(0)\n",
    "        Q_table[\"2\"].append(0)\n",
    "        Q_table[\"3\"].append(0)\n",
    "    return Q_table\n",
    "#use the function to create the table\n",
    "Q_table=initialize_Q_table(20)\n",
    "#Make Q function to get Q\n",
    "#def Q(Space,Move):\n",
    "#    Q_table[str(Move)][Space]\n",
    "#4, list of bad squares\n",
    "bs=[5,6,7,12,14]\n",
    "gs=[18]\n",
    "tempreward=[13]#[4,8,9,13,17]\n",
    "#\n",
    "#l=[0,4,8,12,16]\n",
    "#r=[3,7,11,15,19]\n",
    "#u=[0,1,2,3]\n",
    "#d=[16,17,18,19]\n",
    "\n",
    "#list of rewards\n",
    "info={\"Steps\":[],\"End\":[]}\n",
    "\n",
    "\n",
    "\n",
    "\n",
    "\n",
    "\n",
    "\n",
    "\n",
    "stepcount=0\n",
    "\n",
    "#5\n",
    "stepcount=0\n",
    "current_State=env.reset()[0]\n",
    "#You have the current state, so you update at the end\n",
    "#Choose values\n",
    "Epsilon=.1#between 0 and 1 non-inclusive\n",
    "Alpha=.35\n",
    "Gamma=.4\n",
    "#determine step\n",
    "#repeat\n",
    "reset=0\n",
    "\n",
    "#env.reset()\n",
    "#env.step(1)\n",
    "#env.step(1)\n",
    "#env.step(2)\n",
    "#env.step(1)\n",
    "#env.step(1)\n",
    "#env.step(1)\n",
    "#env.step(2)\n",
    "for repeat_useless_value in range(1000):\n",
    "    if reset==1:\n",
    "        current_State=env.reset()[0]\n",
    "        reset=0\n",
    "        stepcount=0\n",
    "    E=random.uniform(0, 1)\n",
    "    #This is to determine the next step(Step) and the next state\n",
    "    #get list of where it can go\n",
    "#    movements=[]\n",
    "#    if current_State in l:\n",
    "#        movements.append(0)\n",
    "#    if current_State in r:\n",
    "#        movements.append(2)\n",
    "#    if current_State in d:\n",
    "#        movements.append(1)\n",
    "#    if current_State in u:\n",
    "#        movements.append(3)\n",
    "    if E>Epsilon:#You will do the best action\n",
    "        maxq=max(Q_table[\"0\"][current_State],Q_table[\"1\"][current_State],Q_table[\"2\"][current_State],Q_table[\"3\"][current_State],)\n",
    "        #\n",
    "        list=[]\n",
    "        if maxq==Q_table[\"0\"][current_State]:\n",
    "            list.append(\"0\")\n",
    "        if maxq==Q_table[\"1\"][current_State]:\n",
    "            list.append(\"1\")\n",
    "        if maxq==Q_table[\"2\"][current_State]:\n",
    "            list.append(\"2\")\n",
    "        if maxq==Q_table[\"3\"][current_State]:\n",
    "            list.append(\"3\")\n",
    "        #random move based on it\n",
    "        if len(list)>1:\n",
    "            \n",
    "            step=list[random.randint(0,len(list)-1)]\n",
    "            next_State=env.step(int(step))[0]\n",
    "            step=str(step)\n",
    "        else:\n",
    "            if maxq==Q_table[\"0\"][current_State]:\n",
    "                step=\"0\"\n",
    "                next_State=env.step(0)[0]\n",
    "            elif maxq==Q_table[\"1\"][current_State]:\n",
    "                step=\"1\"\n",
    "                next_State=env.step(1)[0]\n",
    "            elif maxq==Q_table[\"2\"][current_State]:\n",
    "                step=\"2\"\n",
    "                next_State=env.step(2)[0]\n",
    "            elif maxq==Q_table[\"3\"][current_State]:\n",
    "                step=\"3\"\n",
    "                next_State=env.step(3)[0]\n",
    "    else:#when it is less than the random value\n",
    "        step=random.randint(0, 3)\n",
    "        next_State=env.step(step)[0]\n",
    "        step=str(step)\n",
    "    #Now you have the next_state that you can now use to make calculations\n",
    "\n",
    "    #This is where you calculate the max of future value\n",
    "    futureQ=max(Q_table[\"0\"][next_State],Q_table[\"1\"][next_State],Q_table[\"2\"][next_State],Q_table[\"3\"][next_State])\n",
    "    #Get your reward value\n",
    "    if Seed[next_State]==\"H\":#if its a lake square\n",
    "        reward=-.3\n",
    "        reset=1\n",
    "        \n",
    "        stepcount+=1\n",
    "        info[\"Steps\"].append(stepcount)\n",
    "        info[\"End\"].append(\"-1\")\n",
    "    elif Seed[next_State]==\"G\":\n",
    "        reward=1\n",
    "        reset=1\n",
    "        \n",
    "        stepcount+=1\n",
    "        info[\"Steps\"].append(stepcount)\n",
    "        info[\"End\"].append(\"1\")\n",
    "#    elif next_State in tempreward:#this is a temporary reward to test it\n",
    "#        reward=.5\n",
    "    else:\n",
    "        reward=0\n",
    "        \n",
    "        stepcount+=1\n",
    "    if current_State==next_State:\n",
    "        #type 1\n",
    "        reward=-.2\n",
    "        Q_table[step][current_State]=Q_table[step][current_State]+Alpha*(reward+Gamma*futureQ-Q_table[step][current_State])\n",
    "        \n",
    "        #type2\n",
    "        #Q_table[step][current_State]=Q_table[step][current_State]\n",
    "        \n",
    "#    elif next_State in bs:\n",
    "#        Q_table[step][current_State]=Q_table[step][current_State]\n",
    "    elif E>Epsilon:\n",
    "        #Q_table[]\n",
    "        Q_table[step][current_State]=Q_table[step][current_State]\n",
    "    else:\n",
    "        Q_table[step][current_State]=Q_table[step][current_State]+Alpha*(reward+Gamma*futureQ-Q_table[step][current_State])\n",
    "    \n",
    "\n",
    "\n",
    "\n",
    "    #End\n",
    "    current_State=next_State#put in the state, im unsure what ill call it yet\n",
    "    "
   ]
  },
  {
   "cell_type": "code",
   "execution_count": null,
   "id": "b4869648",
   "metadata": {},
   "outputs": [],
   "source": [
    "print(Q_table)"
   ]
  },
  {
   "cell_type": "code",
   "execution_count": null,
   "id": "78b54e19",
   "metadata": {},
   "outputs": [],
   "source": []
  },
  {
   "cell_type": "code",
   "execution_count": null,
   "id": "78b9438b",
   "metadata": {},
   "outputs": [],
   "source": []
  },
  {
   "cell_type": "code",
   "execution_count": null,
   "id": "08de7f6f",
   "metadata": {},
   "outputs": [],
   "source": []
  },
  {
   "cell_type": "code",
   "execution_count": null,
   "id": "d83fa691",
   "metadata": {},
   "outputs": [],
   "source": []
  },
  {
   "cell_type": "code",
   "execution_count": null,
   "id": "f87748f1",
   "metadata": {},
   "outputs": [],
   "source": []
  },
  {
   "cell_type": "code",
   "execution_count": null,
   "id": "59cd852d",
   "metadata": {},
   "outputs": [],
   "source": []
  },
  {
   "cell_type": "code",
   "execution_count": null,
   "id": "ae9cff64",
   "metadata": {},
   "outputs": [],
   "source": [
    "print(Q_table)"
   ]
  },
  {
   "cell_type": "code",
   "execution_count": null,
   "id": "f6296323",
   "metadata": {},
   "outputs": [],
   "source": []
  },
  {
   "cell_type": "code",
   "execution_count": null,
   "id": "e88ae3f9",
   "metadata": {},
   "outputs": [],
   "source": []
  },
  {
   "cell_type": "code",
   "execution_count": null,
   "id": "2a2e99b2",
   "metadata": {},
   "outputs": [],
   "source": [
    "print(env.reset())"
   ]
  },
  {
   "cell_type": "code",
   "execution_count": null,
   "id": "dbff8092-80a9-4b62-83fb-4fb0d2bd999a",
   "metadata": {},
   "outputs": [],
   "source": [
    "print(env.step(3))"
   ]
  },
  {
   "cell_type": "code",
   "execution_count": null,
   "id": "25ee0c2e",
   "metadata": {},
   "outputs": [],
   "source": [
    "#S,a S:place A:"
   ]
  },
  {
   "cell_type": "code",
   "execution_count": null,
   "id": "9aa185c2",
   "metadata": {},
   "outputs": [],
   "source": [
    "env.close()"
   ]
  },
  {
   "cell_type": "code",
   "execution_count": null,
   "id": "0843220c",
   "metadata": {},
   "outputs": [],
   "source": []
  },
  {
   "cell_type": "code",
   "execution_count": null,
   "id": "cd479943",
   "metadata": {},
   "outputs": [],
   "source": []
  },
  {
   "cell_type": "code",
   "execution_count": null,
   "id": "61a8b267",
   "metadata": {},
   "outputs": [],
   "source": [
    "def movegetinfo(movement):\n",
    "    if movement==\"Up\":\n",
    "        env.step(1)\n",
    "movegetinfo(\"Up\")"
   ]
  },
  {
   "cell_type": "code",
   "execution_count": null,
   "id": "80828dca",
   "metadata": {},
   "outputs": [],
   "source": []
  },
  {
   "cell_type": "code",
   "execution_count": null,
   "id": "cb0ed0f9",
   "metadata": {},
   "outputs": [],
   "source": []
  },
  {
   "cell_type": "code",
   "execution_count": null,
   "id": "48162d40",
   "metadata": {},
   "outputs": [],
   "source": [
    "env.reset()"
   ]
  },
  {
   "cell_type": "code",
   "execution_count": null,
   "id": "f60b2475",
   "metadata": {},
   "outputs": [],
   "source": [
    "env.step(1)"
   ]
  },
  {
   "cell_type": "code",
   "execution_count": null,
   "id": "bfcc42dc",
   "metadata": {},
   "outputs": [],
   "source": [
    "env.step(2)"
   ]
  },
  {
   "cell_type": "code",
   "execution_count": null,
   "id": "cd02e740",
   "metadata": {},
   "outputs": [],
   "source": [
    "env.close()"
   ]
  },
  {
   "cell_type": "code",
   "execution_count": null,
   "id": "9970c41a",
   "metadata": {},
   "outputs": [],
   "source": [
    "#reset whole thing\n",
    "env.reset()\n",
    "#env.step(0)#Left\n",
    "#env.step(1)#Down\n",
    "#env.step(2)#Right\n",
    "#env.step(3)#Up"
   ]
  },
  {
   "cell_type": "code",
   "execution_count": null,
   "id": "9b18b4d1",
   "metadata": {},
   "outputs": [],
   "source": [
    "def"
   ]
  },
  {
   "cell_type": "code",
   "execution_count": null,
   "id": "a693356c",
   "metadata": {},
   "outputs": [],
   "source": []
  },
  {
   "cell_type": "code",
   "execution_count": null,
   "id": "87c1b6e9-ab4f-486a-bf2d-30a5196bef54",
   "metadata": {},
   "outputs": [],
   "source": [
    "def movelol(inputmove):\n",
    "    if inputmove==\"W\":\n",
    "        env.step(3)\n",
    "    if inputmove==\"A\":\n",
    "        env.step(0)\n",
    "    if inputmove==\"S\":\n",
    "        env.step(1)\n",
    "    if inputmove==\"D\":\n",
    "        env.step(2)\n",
    "    if inputmove==\"R\":\n",
    "        env.reset()\n",
    "    if inputmove==\"C\":\n",
    "        sys.exit()\n",
    "    if inputmove==\"O\":\n",
    "        env = gym.make('FrozenLake-v1', desc=desc, map_name=\"5x5\", is_slippery=False, render_mode=\"human\") \n",
    "        observation, info = env.reset()"
   ]
  },
  {
   "cell_type": "code",
   "execution_count": null,
   "id": "2513dc1a",
   "metadata": {},
   "outputs": [],
   "source": [
    "for taco in range(100):\n",
    "    m=input(\"Move: \")\n",
    "    movelol(m)"
   ]
  },
  {
   "cell_type": "code",
   "execution_count": null,
   "id": "e5e7f4ec-f94c-4167-ac9e-ae5f918ff7b9",
   "metadata": {},
   "outputs": [],
   "source": [
    "inputmove=\"1\"\n",
    "env.reset()\n",
    "for taco in range(1000):\n",
    "    if inputmove == \"1\":\n",
    "        inputmove=str(input(\"Move: \"))\n",
    "        if inputmove==\"W\":\n",
    "            env.step(3)\n",
    "        if inputmove==\"A\":\n",
    "            env.step(0)\n",
    "        if inputmove==\"S\":\n",
    "            env.step(1)\n",
    "        if inputmove==\"D\":env.step(2)\n",
    "        \n",
    "        if inputmove==\"w\":\n",
    "            env.step(3)\n",
    "        if inputmove==\"a\":\n",
    "            env.step(0)\n",
    "        if inputmove==\"s\":\n",
    "            env.step(1)\n",
    "        if inputmove==\"d\":\n",
    "            env.step(2)\n",
    "        \n",
    "        if inputmove==\"R\":\n",
    "            env.reset()\n",
    "        if inputmove==\"C\":\n",
    "            env.exit()\n",
    "        if inputmove==\"O\":\n",
    "            env = gym.make('FrozenLake-v1', desc=desc, map_name=\"5x5\", is_slippery=False, render_mode=\"human\") \n",
    "            observation, info = env.reset()\n",
    "    if inputmove==\"0\":\n",
    "        inputemove=\"0\"\n",
    "    else:\n",
    "        inputmove=\"1\""
   ]
  },
  {
   "cell_type": "code",
   "execution_count": null,
   "id": "1e30328b",
   "metadata": {},
   "outputs": [],
   "source": [
    "env.reset()"
   ]
  },
  {
   "cell_type": "code",
   "execution_count": null,
   "id": "dc76ae5d-80b2-4306-8884-4266f320acaf",
   "metadata": {},
   "outputs": [],
   "source": [
    "action=1\n"
   ]
  },
  {
   "cell_type": "code",
   "execution_count": null,
   "id": "823852f3",
   "metadata": {},
   "outputs": [],
   "source": [
    "#next state is the next state\n",
    "next_state= env.step(action)"
   ]
  },
  {
   "cell_type": "code",
   "execution_count": null,
   "id": "216c471e",
   "metadata": {},
   "outputs": [],
   "source": [
    "env.reset()"
   ]
  },
  {
   "cell_type": "code",
   "execution_count": null,
   "id": "586de4aa",
   "metadata": {},
   "outputs": [],
   "source": [
    "currentstate=env.reset()\n",
    "next_state=env.step(action)"
   ]
  },
  {
   "cell_type": "code",
   "execution_count": null,
   "id": "677e8dec",
   "metadata": {},
   "outputs": [],
   "source": []
  },
  {
   "cell_type": "code",
   "execution_count": null,
   "id": "3b231fa6",
   "metadata": {},
   "outputs": [],
   "source": []
  }
 ],
 "metadata": {
  "kernelspec": {
   "display_name": "Python 3 (ipykernel)",
   "language": "python",
   "name": "python3"
  },
  "language_info": {
   "codemirror_mode": {
    "name": "ipython",
    "version": 3
   },
   "file_extension": ".py",
   "mimetype": "text/x-python",
   "name": "python",
   "nbconvert_exporter": "python",
   "pygments_lexer": "ipython3",
   "version": "3.11.7"
  }
 },
 "nbformat": 4,
 "nbformat_minor": 5
}
