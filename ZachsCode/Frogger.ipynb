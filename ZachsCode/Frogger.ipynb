{
 "cells": [
  {
   "cell_type": "code",
   "execution_count": 2,
   "id": "674876b3",
   "metadata": {},
   "outputs": [],
   "source": [
    "# !pip install gymnasium\n",
    "# !pip install gymnasium[atari]\n",
    "# !pip install gymnasium[accept-rom-license]"
   ]
  },
  {
   "cell_type": "code",
   "execution_count": 3,
   "id": "95ff2f55",
   "metadata": {},
   "outputs": [],
   "source": [
    "# !pip install tensorflow\n",
    "# !pip install keras"
   ]
  },
  {
   "cell_type": "code",
   "execution_count": 6,
   "id": "57e9eee3",
   "metadata": {},
   "outputs": [],
   "source": [
    "import gymnasium as gym\n",
    "import random"
   ]
  },
  {
   "cell_type": "code",
   "execution_count": 7,
   "id": "1adf3170",
   "metadata": {},
   "outputs": [],
   "source": [
    "env = gym.make('ALE/Frogger-v5', render_mode='human')"
   ]
  },
  {
   "cell_type": "code",
   "execution_count": 8,
   "id": "fab09632",
   "metadata": {},
   "outputs": [
    {
     "data": {
      "text/plain": [
       "(array([[[  0,   0,   0],\n",
       "         [  0,   0,   0],\n",
       "         [  0,   0,   0],\n",
       "         ...,\n",
       "         [  0,   0,   0],\n",
       "         [  0,   0,   0],\n",
       "         [  0,   0,   0]],\n",
       " \n",
       "        [[  0,   0,   0],\n",
       "         [  0,   0,   0],\n",
       "         [  0,   0,   0],\n",
       "         ...,\n",
       "         [  0,   0,   0],\n",
       "         [  0,   0,   0],\n",
       "         [  0,   0,   0]],\n",
       " \n",
       "        [[  0,   0,   0],\n",
       "         [  0,   0,   0],\n",
       "         [  0,   0,   0],\n",
       "         ...,\n",
       "         [  0,   0,   0],\n",
       "         [  0,   0,   0],\n",
       "         [  0,   0,   0]],\n",
       " \n",
       "        ...,\n",
       " \n",
       "        [[ 82, 126,  45],\n",
       "         [ 82, 126,  45],\n",
       "         [ 82, 126,  45],\n",
       "         ...,\n",
       "         [ 82, 126,  45],\n",
       "         [ 82, 126,  45],\n",
       "         [ 82, 126,  45]],\n",
       " \n",
       "        [[ 82, 126,  45],\n",
       "         [ 82, 126,  45],\n",
       "         [ 82, 126,  45],\n",
       "         ...,\n",
       "         [ 82, 126,  45],\n",
       "         [ 82, 126,  45],\n",
       "         [ 82, 126,  45]],\n",
       " \n",
       "        [[ 82, 126,  45],\n",
       "         [ 82, 126,  45],\n",
       "         [ 82, 126,  45],\n",
       "         ...,\n",
       "         [ 82, 126,  45],\n",
       "         [ 82, 126,  45],\n",
       "         [ 82, 126,  45]]], dtype=uint8),\n",
       " {'lives': 4, 'episode_frame_number': 0, 'frame_number': 0})"
      ]
     },
     "execution_count": 8,
     "metadata": {},
     "output_type": "execute_result"
    }
   ],
   "source": [
    "env.reset()"
   ]
  },
  {
   "cell_type": "code",
   "execution_count": 25,
   "id": "5d281dc8",
   "metadata": {},
   "outputs": [],
   "source": [
    "def playMusic():\n",
    "    for i in range(110):\n",
    "        env.step(0)\n",
    "\n",
    "def playEpisode():\n",
    "    env.reset()\n",
    "    playMusic()\n",
    "    episodeOver = False\n",
    "    currentLives = 4\n",
    "    totalScore = 0\n",
    "    lifeScore = 0\n",
    "    totalSteps = 0\n",
    "    lifeSteps = 0\n",
    "    scoreAndStepsPerLife = []\n",
    "    while not episodeOver:\n",
    "        randDirection = random.choice([1,2,3,4])\n",
    "        data = env.step(randDirection)\n",
    "        totalSteps += 1\n",
    "        lifeSteps += 1\n",
    "        totalScore += data[1]\n",
    "        lifeScore += data[1]\n",
    "        if data[4]['lives'] < currentLives:\n",
    "            currentLives = data[4]['lives']\n",
    "            scoreAndStepsPerLife.append([lifeScore, lifeSteps])\n",
    "            lifeScore = 0\n",
    "            lifeSteps = 0\n",
    "            if int(data[4]['lives']) < 1:\n",
    "                episodeOver = True\n",
    "    return totalScore, scoreAndStepsPerLife"
   ]
  },
  {
   "cell_type": "code",
   "execution_count": 26,
   "id": "7404be6e",
   "metadata": {},
   "outputs": [
    {
     "data": {
      "text/plain": [
       "(5.0, [[1.0, 18], [1.0, 19], [1.0, 31], [2.0, 53]])"
      ]
     },
     "execution_count": 26,
     "metadata": {},
     "output_type": "execute_result"
    }
   ],
   "source": [
    "playEpisode()"
   ]
  },
  {
   "cell_type": "code",
   "execution_count": null,
   "id": "3ca50c21",
   "metadata": {},
   "outputs": [],
   "source": []
  }
 ],
 "metadata": {
  "kernelspec": {
   "display_name": "Python 3 (ipykernel)",
   "language": "python",
   "name": "python3"
  },
  "language_info": {
   "codemirror_mode": {
    "name": "ipython",
    "version": 3
   },
   "file_extension": ".py",
   "mimetype": "text/x-python",
   "name": "python",
   "nbconvert_exporter": "python",
   "pygments_lexer": "ipython3",
   "version": "3.11.5"
  }
 },
 "nbformat": 4,
 "nbformat_minor": 5
}
