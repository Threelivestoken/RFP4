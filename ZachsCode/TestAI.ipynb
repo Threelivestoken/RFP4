{
 "cells": [
  {
   "cell_type": "code",
   "execution_count": 1,
   "id": "3910d497",
   "metadata": {},
   "outputs": [],
   "source": [
    "import os\n",
    "os.environ[\"KERAS_BACKEND\"] = \"tensorflow\"\n",
    "import keras\n",
    "from keras import layers\n",
    "from tensorflow.keras.models import Sequential\n",
    "from tensorflow.keras.layers import Conv2D, Flatten, Dense\n",
    "from gymnasium.wrappers import FrameStack\n",
    "from gymnasium.experimental.wrappers import GrayscaleObservationV0\n",
    "import gymnasium as gym\n",
    "import numpy as np\n",
    "import tensorflow as tf\n",
    "import pandas as pd\n",
    "from IPython.display import clear_output\n",
    "%config NotebookApp.iopub_msg_rate_limit=10000\n",
    "import time"
   ]
  },
  {
   "cell_type": "code",
   "execution_count": 2,
   "id": "149f04bc",
   "metadata": {},
   "outputs": [],
   "source": [
    "num_actions = 5\n",
    "def create_CNN():\n",
    "    model = Sequential()\n",
    "    \n",
    "    model.add(Conv2D(32, (8, 8), strides=(4, 4), padding='same', activation='relu', input_shape=(4, 210, 160)))\n",
    "    model.add(Conv2D(64, (4, 4), strides=(2, 2), padding='same', activation='relu'))\n",
    "    model.add(Conv2D(64, (3, 3), strides=(1, 1), padding='same', activation='relu'))\n",
    "    \n",
    "    model.add(Flatten())\n",
    "    \n",
    "    model.add(Dense(64, activation='relu'))\n",
    "    model.add(Dense(32, activation='relu'))\n",
    "    model.add(Dense(num_actions, activation='linear'))\n",
    "    return model"
   ]
  },
  {
   "cell_type": "code",
   "execution_count": 3,
   "id": "96a15541",
   "metadata": {},
   "outputs": [
    {
     "name": "stderr",
     "output_type": "stream",
     "text": [
      "C:\\Users\\zache\\anaconda3\\Lib\\site-packages\\keras\\src\\layers\\convolutional\\base_conv.py:107: UserWarning: Do not pass an `input_shape`/`input_dim` argument to a layer. When using Sequential models, prefer using an `Input(shape)` object as the first layer in the model instead.\n",
      "  super().__init__(activity_regularizer=activity_regularizer, **kwargs)\n"
     ]
    }
   ],
   "source": [
    "model = create_CNN()\n",
    "model.load_weights('cnn1v2.weights.h5')\n",
    "env = gym.make('ALE/Frogger-v5')\n",
    "env = GrayscaleObservationV0(env)\n",
    "env = FrameStack(env, 4) # Get 4 frames from game at a time\n",
    "frames, width, height = env.observation_space.shape\n",
    "env.reset()\n",
    "game_over = False"
   ]
  },
  {
   "cell_type": "code",
   "execution_count": 4,
   "id": "439fb90d",
   "metadata": {
    "scrolled": true
   },
   "outputs": [],
   "source": [
    "def testAI(episodes):\n",
    "    start_time = time.time()\n",
    "    stepsAndScore = {'steps': [], 'score': []}\n",
    "    for i in range(episodes):\n",
    "        totalSteps = 0\n",
    "        totalScore = 0\n",
    "        env.reset()\n",
    "        state, reward, game_over, x, _ = env.step(0)\n",
    "        while not game_over:\n",
    "            #Predict action using the trained model\n",
    "            q_values = model.predict(np.expand_dims(state, axis=0))\n",
    "            action = np.argmax(q_values)\n",
    "\n",
    "            # Take action in the environment\n",
    "            next_state, reward, game_over, x, _ = env.step(action)\n",
    "\n",
    "            totalScore += reward\n",
    "            totalSteps += 1\n",
    "\n",
    "            # Update current state\n",
    "            state = next_state\n",
    "            \n",
    "            time.sleep(0.001)\n",
    "            clear_output(wait=True)\n",
    "            print(\"episode \" + str(i + 1) + \"/\" + str(episodes))\n",
    "            print(\"time: \" + str(round((time.time() - start_time),2)) + \" sec\")\n",
    "        stepsAndScore['steps'].append(totalSteps-110)\n",
    "        stepsAndScore['score'].append(totalScore)\n",
    "    stepsAndScore = pd.DataFrame(stepsAndScore)\n",
    "    return stepsAndScore"
   ]
  },
  {
   "cell_type": "code",
   "execution_count": 5,
   "id": "9c48c939",
   "metadata": {},
   "outputs": [],
   "source": [
    "#set number of episodes to test the AI for\n",
    "episodesToTest = 20"
   ]
  },
  {
   "cell_type": "code",
   "execution_count": 10,
   "id": "26f7792b",
   "metadata": {},
   "outputs": [
    {
     "name": "stdout",
     "output_type": "stream",
     "text": [
      "episode 20/20\n",
      "time: 555.19 sec\n"
     ]
    }
   ],
   "source": [
    "stepsAndScore = testAI(episodesToTest)"
   ]
  },
  {
   "cell_type": "code",
   "execution_count": 11,
   "id": "d60a090c",
   "metadata": {
    "scrolled": true
   },
   "outputs": [
    {
     "data": {
      "text/html": [
       "<div>\n",
       "<style scoped>\n",
       "    .dataframe tbody tr th:only-of-type {\n",
       "        vertical-align: middle;\n",
       "    }\n",
       "\n",
       "    .dataframe tbody tr th {\n",
       "        vertical-align: top;\n",
       "    }\n",
       "\n",
       "    .dataframe thead th {\n",
       "        text-align: right;\n",
       "    }\n",
       "</style>\n",
       "<table border=\"1\" class=\"dataframe\">\n",
       "  <thead>\n",
       "    <tr style=\"text-align: right;\">\n",
       "      <th></th>\n",
       "      <th>steps</th>\n",
       "      <th>score</th>\n",
       "    </tr>\n",
       "  </thead>\n",
       "  <tbody>\n",
       "    <tr>\n",
       "      <th>0</th>\n",
       "      <td>348</td>\n",
       "      <td>5.0</td>\n",
       "    </tr>\n",
       "    <tr>\n",
       "      <th>1</th>\n",
       "      <td>348</td>\n",
       "      <td>5.0</td>\n",
       "    </tr>\n",
       "    <tr>\n",
       "      <th>2</th>\n",
       "      <td>348</td>\n",
       "      <td>5.0</td>\n",
       "    </tr>\n",
       "    <tr>\n",
       "      <th>3</th>\n",
       "      <td>348</td>\n",
       "      <td>5.0</td>\n",
       "    </tr>\n",
       "    <tr>\n",
       "      <th>4</th>\n",
       "      <td>348</td>\n",
       "      <td>5.0</td>\n",
       "    </tr>\n",
       "    <tr>\n",
       "      <th>5</th>\n",
       "      <td>348</td>\n",
       "      <td>5.0</td>\n",
       "    </tr>\n",
       "    <tr>\n",
       "      <th>6</th>\n",
       "      <td>348</td>\n",
       "      <td>5.0</td>\n",
       "    </tr>\n",
       "    <tr>\n",
       "      <th>7</th>\n",
       "      <td>348</td>\n",
       "      <td>5.0</td>\n",
       "    </tr>\n",
       "    <tr>\n",
       "      <th>8</th>\n",
       "      <td>348</td>\n",
       "      <td>5.0</td>\n",
       "    </tr>\n",
       "    <tr>\n",
       "      <th>9</th>\n",
       "      <td>348</td>\n",
       "      <td>5.0</td>\n",
       "    </tr>\n",
       "    <tr>\n",
       "      <th>10</th>\n",
       "      <td>348</td>\n",
       "      <td>5.0</td>\n",
       "    </tr>\n",
       "    <tr>\n",
       "      <th>11</th>\n",
       "      <td>348</td>\n",
       "      <td>5.0</td>\n",
       "    </tr>\n",
       "    <tr>\n",
       "      <th>12</th>\n",
       "      <td>348</td>\n",
       "      <td>5.0</td>\n",
       "    </tr>\n",
       "    <tr>\n",
       "      <th>13</th>\n",
       "      <td>348</td>\n",
       "      <td>5.0</td>\n",
       "    </tr>\n",
       "    <tr>\n",
       "      <th>14</th>\n",
       "      <td>348</td>\n",
       "      <td>5.0</td>\n",
       "    </tr>\n",
       "    <tr>\n",
       "      <th>15</th>\n",
       "      <td>348</td>\n",
       "      <td>5.0</td>\n",
       "    </tr>\n",
       "    <tr>\n",
       "      <th>16</th>\n",
       "      <td>348</td>\n",
       "      <td>5.0</td>\n",
       "    </tr>\n",
       "    <tr>\n",
       "      <th>17</th>\n",
       "      <td>348</td>\n",
       "      <td>5.0</td>\n",
       "    </tr>\n",
       "    <tr>\n",
       "      <th>18</th>\n",
       "      <td>348</td>\n",
       "      <td>5.0</td>\n",
       "    </tr>\n",
       "    <tr>\n",
       "      <th>19</th>\n",
       "      <td>348</td>\n",
       "      <td>5.0</td>\n",
       "    </tr>\n",
       "  </tbody>\n",
       "</table>\n",
       "</div>"
      ],
      "text/plain": [
       "    steps  score\n",
       "0     348    5.0\n",
       "1     348    5.0\n",
       "2     348    5.0\n",
       "3     348    5.0\n",
       "4     348    5.0\n",
       "5     348    5.0\n",
       "6     348    5.0\n",
       "7     348    5.0\n",
       "8     348    5.0\n",
       "9     348    5.0\n",
       "10    348    5.0\n",
       "11    348    5.0\n",
       "12    348    5.0\n",
       "13    348    5.0\n",
       "14    348    5.0\n",
       "15    348    5.0\n",
       "16    348    5.0\n",
       "17    348    5.0\n",
       "18    348    5.0\n",
       "19    348    5.0"
      ]
     },
     "execution_count": 11,
     "metadata": {},
     "output_type": "execute_result"
    }
   ],
   "source": [
    "stepsAndScore"
   ]
  },
  {
   "cell_type": "code",
   "execution_count": 12,
   "id": "e5f7bbc7",
   "metadata": {},
   "outputs": [],
   "source": [
    "bestScore = max(stepsAndScore['score'])\n",
    "avgScore = stepsAndScore['score'].mean()\n",
    "avgStepsPerScore = round(stepsAndScore['steps'].mean()/avgScore,2)"
   ]
  },
  {
   "cell_type": "code",
   "execution_count": 13,
   "id": "dd45d530",
   "metadata": {},
   "outputs": [
    {
     "name": "stdout",
     "output_type": "stream",
     "text": [
      "Best Score: 5.0\n",
      "Average Score: 5.0\n",
      "Average Steps/Score: 69.6\n"
     ]
    }
   ],
   "source": [
    "print(\"Best Score: \" + str(bestScore))\n",
    "print(\"Average Score: \" + str(avgScore))\n",
    "print(\"Average Steps/Score: \" + str(avgStepsPerScore))"
   ]
  },
  {
   "cell_type": "code",
   "execution_count": null,
   "id": "4f954297",
   "metadata": {},
   "outputs": [],
   "source": []
  }
 ],
 "metadata": {
  "kernelspec": {
   "display_name": "Python 3 (ipykernel)",
   "language": "python",
   "name": "python3"
  },
  "language_info": {
   "codemirror_mode": {
    "name": "ipython",
    "version": 3
   },
   "file_extension": ".py",
   "mimetype": "text/x-python",
   "name": "python",
   "nbconvert_exporter": "python",
   "pygments_lexer": "ipython3",
   "version": "3.11.5"
  }
 },
 "nbformat": 4,
 "nbformat_minor": 5
}
