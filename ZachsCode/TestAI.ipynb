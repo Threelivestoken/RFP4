{
 "cells": [
  {
   "cell_type": "code",
   "execution_count": 1,
   "id": "3910d497",
   "metadata": {},
   "outputs": [],
   "source": [
    "import os\n",
    "os.environ[\"KERAS_BACKEND\"] = \"tensorflow\"\n",
    "import keras\n",
    "from keras import layers\n",
    "from tensorflow.keras.models import Sequential\n",
    "from tensorflow.keras.layers import Conv2D, Flatten, Dense\n",
    "from gymnasium.wrappers import FrameStack\n",
    "from gymnasium.experimental.wrappers import GrayscaleObservationV0\n",
    "import gymnasium as gym\n",
    "import numpy as np\n",
    "import tensorflow as tf\n",
    "import pandas as pd\n",
    "from IPython.display import clear_output\n",
    "%config NotebookApp.iopub_msg_rate_limit=10000\n",
    "import time"
   ]
  },
  {
   "cell_type": "code",
   "execution_count": 2,
   "id": "149f04bc",
   "metadata": {},
   "outputs": [],
   "source": [
    "num_actions = 5\n",
    "def create_CNN():\n",
    "    model = Sequential()\n",
    "    \n",
    "    model.add(Conv2D(32, (8, 8), strides=(4, 4), padding='same', activation='relu', input_shape=(4, 210, 160)))\n",
    "    model.add(Conv2D(64, (4, 4), strides=(2, 2), padding='same', activation='relu'))\n",
    "    model.add(Conv2D(64, (3, 3), strides=(1, 1), padding='same', activation='relu'))\n",
    "    \n",
    "    model.add(Flatten())\n",
    "    \n",
    "    model.add(Dense(64, activation='relu'))\n",
    "    model.add(Dense(32, activation='relu'))\n",
    "    model.add(Dense(num_actions, activation='linear'))\n",
    "    return model"
   ]
  },
  {
   "cell_type": "code",
   "execution_count": 3,
   "id": "96a15541",
   "metadata": {},
   "outputs": [
    {
     "name": "stderr",
     "output_type": "stream",
     "text": [
      "C:\\Users\\zmajernik\\AppData\\Roaming\\Python\\Python39\\site-packages\\keras\\src\\layers\\convolutional\\base_conv.py:99: UserWarning: Do not pass an `input_shape`/`input_dim` argument to a layer. When using Sequential models, prefer using an `Input(shape)` object as the first layer in the model instead.\n",
      "  super().__init__(\n"
     ]
    }
   ],
   "source": [
    "model = create_CNN()\n",
    "model.load_weights('cnn1v2.weights.h5')\n",
    "env = gym.make('ALE/Frogger-v5')\n",
    "env = GrayscaleObservationV0(env)\n",
    "env = FrameStack(env, 4) # Get 4 frames from game at a time\n",
    "frames, width, height = env.observation_space.shape\n",
    "env.reset()\n",
    "game_over = False"
   ]
  },
  {
   "cell_type": "code",
   "execution_count": 10,
   "id": "439fb90d",
   "metadata": {
    "scrolled": true
   },
   "outputs": [],
   "source": [
    "def testAI(episodes):\n",
    "    stepsAndScore = {'steps': [], 'score': []}\n",
    "    for i in range(episodes):\n",
    "        totalSteps = 0\n",
    "        totalScore = 0\n",
    "        env.reset()\n",
    "        state, reward, game_over, x, _ = env.step(0)\n",
    "        while not game_over:\n",
    "            #Predict action using the trained model\n",
    "            q_values = model.predict(np.expand_dims(state, axis=0))\n",
    "            action = np.argmax(q_values)\n",
    "\n",
    "            # Take action in the environment\n",
    "            next_state, reward, game_over, x, _ = env.step(action)\n",
    "\n",
    "            totalScore += reward\n",
    "            totalSteps += 1\n",
    "\n",
    "            # Update current state\n",
    "            state = next_state\n",
    "            \n",
    "            time.sleep(0.001)\n",
    "            clear_output(wait=True)\n",
    "            print(\"episode \" + str(i + 1) + \"/\" + str(episodes))\n",
    "        stepsAndScore['steps'].append(totalSteps)\n",
    "        stepsAndScore['score'].append(totalScore)\n",
    "    stepsAndScore = pd.DataFrame(stepsAndScore)\n",
    "    return stepsAndScore"
   ]
  },
  {
   "cell_type": "code",
   "execution_count": 19,
   "id": "9c48c939",
   "metadata": {},
   "outputs": [],
   "source": [
    "#set number of episodes to test the AI for\n",
    "episodesToTest = 20"
   ]
  },
  {
   "cell_type": "code",
   "execution_count": 20,
   "id": "88f35908",
   "metadata": {},
   "outputs": [
    {
     "name": "stdout",
     "output_type": "stream",
     "text": [
      "episode 5/5\n"
     ]
    }
   ],
   "source": [
    "stepsAndScore = testAI(episodesToTest)"
   ]
  },
  {
   "cell_type": "code",
   "execution_count": 21,
   "id": "7726c8d6",
   "metadata": {
    "scrolled": true
   },
   "outputs": [
    {
     "data": {
      "text/html": [
       "<div>\n",
       "<style scoped>\n",
       "    .dataframe tbody tr th:only-of-type {\n",
       "        vertical-align: middle;\n",
       "    }\n",
       "\n",
       "    .dataframe tbody tr th {\n",
       "        vertical-align: top;\n",
       "    }\n",
       "\n",
       "    .dataframe thead th {\n",
       "        text-align: right;\n",
       "    }\n",
       "</style>\n",
       "<table border=\"1\" class=\"dataframe\">\n",
       "  <thead>\n",
       "    <tr style=\"text-align: right;\">\n",
       "      <th></th>\n",
       "      <th>steps</th>\n",
       "      <th>score</th>\n",
       "    </tr>\n",
       "  </thead>\n",
       "  <tbody>\n",
       "    <tr>\n",
       "      <th>0</th>\n",
       "      <td>287</td>\n",
       "      <td>9.0</td>\n",
       "    </tr>\n",
       "    <tr>\n",
       "      <th>1</th>\n",
       "      <td>338</td>\n",
       "      <td>11.0</td>\n",
       "    </tr>\n",
       "    <tr>\n",
       "      <th>2</th>\n",
       "      <td>338</td>\n",
       "      <td>11.0</td>\n",
       "    </tr>\n",
       "    <tr>\n",
       "      <th>3</th>\n",
       "      <td>339</td>\n",
       "      <td>11.0</td>\n",
       "    </tr>\n",
       "    <tr>\n",
       "      <th>4</th>\n",
       "      <td>338</td>\n",
       "      <td>11.0</td>\n",
       "    </tr>\n",
       "  </tbody>\n",
       "</table>\n",
       "</div>"
      ],
      "text/plain": [
       "   steps  score\n",
       "0    287    9.0\n",
       "1    338   11.0\n",
       "2    338   11.0\n",
       "3    339   11.0\n",
       "4    338   11.0"
      ]
     },
     "execution_count": 21,
     "metadata": {},
     "output_type": "execute_result"
    }
   ],
   "source": [
    "stepsAndScore"
   ]
  },
  {
   "cell_type": "code",
   "execution_count": 26,
   "id": "72a43cfe",
   "metadata": {},
   "outputs": [],
   "source": [
    "bestScore = max(stepsAndScore['score'])\n",
    "avgScore = stepsAndScore['score'].mean()\n",
    "avgStepsPerScore = round(stepsAndScore['steps'].mean()/avgScore,2)"
   ]
  },
  {
   "cell_type": "code",
   "execution_count": 28,
   "id": "9e559120",
   "metadata": {},
   "outputs": [
    {
     "name": "stdout",
     "output_type": "stream",
     "text": [
      "Best Score: 11.0\n",
      "Average Score: 10.6\n",
      "Average Steps/Score: 30.94\n"
     ]
    }
   ],
   "source": [
    "print(\"Best Score: \" + str(bestScore))\n",
    "print(\"Average Score: \" + str(avgScore))\n",
    "print(\"Average Steps/Score: \" + str(avgStepsPerScore))"
   ]
  },
  {
   "cell_type": "code",
   "execution_count": null,
   "id": "a9779de7",
   "metadata": {},
   "outputs": [],
   "source": []
  }
 ],
 "metadata": {
  "kernelspec": {
   "display_name": "Python 3 (ipykernel)",
   "language": "python",
   "name": "python3"
  },
  "language_info": {
   "codemirror_mode": {
    "name": "ipython",
    "version": 3
   },
   "file_extension": ".py",
   "mimetype": "text/x-python",
   "name": "python",
   "nbconvert_exporter": "python",
   "pygments_lexer": "ipython3",
   "version": "3.9.13"
  }
 },
 "nbformat": 4,
 "nbformat_minor": 5
}
