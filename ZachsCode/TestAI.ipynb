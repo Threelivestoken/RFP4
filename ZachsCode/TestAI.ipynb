{
 "cells": [
  {
   "cell_type": "code",
   "execution_count": null,
   "id": "3910d497",
   "metadata": {},
   "outputs": [],
   "source": [
    "import os\n",
    "os.environ[\"KERAS_BACKEND\"] = \"tensorflow\"\n",
    "import keras\n",
    "from keras import layers\n",
    "from tensorflow.keras.models import Sequential\n",
    "from tensorflow.keras.layers import Conv2D, Flatten, Dense\n",
    "from gymnasium.wrappers import FrameStack\n",
    "from gymnasium.experimental.wrappers import GrayscaleObservationV0\n",
    "import gymnasium as gym\n",
    "import numpy as np\n",
    "import tensorflow as tf\n",
    "import pandas as pd\n",
    "from IPython.display import clear_output\n",
    "%config NotebookApp.iopub_msg_rate_limit=10000\n",
    "import time\n",
    "import seaborn as sns\n",
    "import matplotlib.pyplot as plt"
   ]
  },
  {
   "cell_type": "code",
   "execution_count": null,
   "id": "149f04bc",
   "metadata": {},
   "outputs": [],
   "source": [
    "num_actions = 5\n",
    "def create_CNN():\n",
    "    model = Sequential()\n",
    "    \n",
    "    model.add(Conv2D(32, (8, 8), strides=(4, 4), padding='same', activation='relu', input_shape=(4, 210, 160)))\n",
    "    model.add(Conv2D(64, (4, 4), strides=(2, 2), padding='same', activation='relu'))\n",
    "    model.add(Conv2D(64, (3, 3), strides=(1, 1), padding='same', activation='relu'))\n",
    "    \n",
    "    model.add(Flatten())\n",
    "    \n",
    "    model.add(Dense(64, activation='relu'))\n",
    "    model.add(Dense(32, activation='relu'))\n",
    "    model.add(Dense(num_actions, activation='linear'))\n",
    "    return model"
   ]
  },
  {
   "cell_type": "code",
   "execution_count": null,
   "id": "96a15541",
   "metadata": {},
   "outputs": [],
   "source": [
    "model = create_CNN()\n",
    "model.load_weights('cnn1v2.weights.h5')\n",
    "env = gym.make('ALE/Frogger-v5')\n",
    "env = GrayscaleObservationV0(env)\n",
    "env = FrameStack(env, 4) # Get 4 frames from game at a time\n",
    "frames, width, height = env.observation_space.shape\n",
    "env.reset()\n",
    "game_over = False"
   ]
  },
  {
   "cell_type": "code",
   "execution_count": null,
   "id": "439fb90d",
   "metadata": {
    "scrolled": true
   },
   "outputs": [],
   "source": [
    "def testAI(episodes):\n",
    "    start_time = time.time()\n",
    "    stepsAndScore = {'steps': [], 'score': []}\n",
    "    for i in range(episodes):\n",
    "        totalSteps = 0\n",
    "        totalScore = 0\n",
    "        env.reset()\n",
    "        state, reward, game_over, x, _ = env.step(0)\n",
    "        while not game_over:\n",
    "            #Predict action using the trained model\n",
    "            q_values = model.predict(np.expand_dims(state, axis=0))\n",
    "            action = np.argmax(q_values)\n",
    "\n",
    "            # Take action in the environment\n",
    "            next_state, reward, game_over, x, _ = env.step(action)\n",
    "\n",
    "            totalScore += reward\n",
    "            totalSteps += 1\n",
    "\n",
    "            # Update current state\n",
    "            state = next_state\n",
    "            \n",
    "            time.sleep(0.001)\n",
    "            clear_output(wait=True)\n",
    "            print(\"episode \" + str(i + 1) + \"/\" + str(episodes))\n",
    "            print(\"time: \" + str(round((time.time() - start_time),2)) + \" sec\")\n",
    "        stepsAndScore['steps'].append(totalSteps-110)\n",
    "        stepsAndScore['score'].append(totalScore)\n",
    "    stepsAndScore = pd.DataFrame(stepsAndScore)\n",
    "    return stepsAndScore"
   ]
  },
  {
   "cell_type": "code",
   "execution_count": null,
   "id": "9c48c939",
   "metadata": {},
   "outputs": [],
   "source": [
    "#set number of episodes to test the AI for\n",
    "episodesToTest = 20"
   ]
  },
  {
   "cell_type": "code",
   "execution_count": null,
   "id": "26f7792b",
   "metadata": {},
   "outputs": [],
   "source": [
    "stepsAndScore = testAI(episodesToTest)"
   ]
  },
  {
   "cell_type": "code",
   "execution_count": null,
   "id": "d60a090c",
   "metadata": {
    "scrolled": true
   },
   "outputs": [],
   "source": [
    "stepsAndScore"
   ]
  },
  {
   "cell_type": "code",
   "execution_count": null,
   "id": "e5f7bbc7",
   "metadata": {},
   "outputs": [],
   "source": [
    "bestScore = max(stepsAndScore['score'])\n",
    "avgScore = stepsAndScore['score'].mean()\n",
    "avgStepsPerScore = round(stepsAndScore['steps'].mean()/avgScore,2)"
   ]
  },
  {
   "cell_type": "code",
   "execution_count": null,
   "id": "dd45d530",
   "metadata": {},
   "outputs": [],
   "source": [
    "print(\"Best Score: \" + str(bestScore))\n",
    "print(\"Average Score: \" + str(avgScore))\n",
    "print(\"Average Steps/Score: \" + str(avgStepsPerScore))"
   ]
  },
  {
   "cell_type": "code",
   "execution_count": null,
   "id": "4f954297",
   "metadata": {},
   "outputs": [],
   "source": [
    "sns.histplot(stepsAndScore['steps'], bins=10, kde=True)\n",
    "plt.show()\n",
    "sns.histplot(stepsAndScore['score'], bins=10, kde=True)\n",
    "plt.show()"
   ]
  }
 ],
 "metadata": {
  "kernelspec": {
   "display_name": "Python 3 (ipykernel)",
   "language": "python",
   "name": "python3"
  },
  "language_info": {
   "codemirror_mode": {
    "name": "ipython",
    "version": 3
   },
   "file_extension": ".py",
   "mimetype": "text/x-python",
   "name": "python",
   "nbconvert_exporter": "python",
   "pygments_lexer": "ipython3",
   "version": "3.9.13"
  }
 },
 "nbformat": 4,
 "nbformat_minor": 5
}
